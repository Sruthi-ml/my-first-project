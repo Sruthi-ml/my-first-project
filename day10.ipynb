{
  "nbformat": 4,
  "nbformat_minor": 0,
  "metadata": {
    "colab": {
      "name": "Untitled6.ipynb",
      "version": "0.3.2",
      "provenance": []
    },
    "kernelspec": {
      "name": "python3",
      "display_name": "Python 3"
    }
  },
  "cells": [
    {
      "cell_type": "code",
      "metadata": {
        "id": "ZlSa3GgwTRMf",
        "colab_type": "code",
        "colab": {}
      },
      "source": [
        "text = \"Truly Kryptic is the best puzzle game. It's browser-based and free. Google it.\""
      ],
      "execution_count": 0,
      "outputs": []
    },
    {
      "cell_type": "code",
      "metadata": {
        "id": "y05nbBRcTURs",
        "colab_type": "code",
        "colab": {
          "base_uri": "https://localhost:8080/",
          "height": 351
        },
        "outputId": "06cefbd5-a8c9-4bae-b55e-9683c1c8bc39"
      },
      "source": [
        "import nltk\n",
        "nltk.download('punkt')\n",
        "\n",
        "from nltk import word_tokenize\n",
        "text_tokenized = word_tokenize(text.lower())\n",
        "text_tokenized"
      ],
      "execution_count": 5,
      "outputs": [
        {
          "output_type": "stream",
          "text": [
            "[nltk_data] Downloading package punkt to /root/nltk_data...\n",
            "[nltk_data]   Unzipping tokenizers/punkt.zip.\n"
          ],
          "name": "stdout"
        },
        {
          "output_type": "execute_result",
          "data": {
            "text/plain": [
              "['truly',\n",
              " 'kryptic',\n",
              " 'is',\n",
              " 'the',\n",
              " 'best',\n",
              " 'puzzle',\n",
              " 'game',\n",
              " '.',\n",
              " 'it',\n",
              " \"'s\",\n",
              " 'browser-based',\n",
              " 'and',\n",
              " 'free',\n",
              " '.',\n",
              " 'google',\n",
              " 'it',\n",
              " '.']"
            ]
          },
          "metadata": {
            "tags": []
          },
          "execution_count": 5
        }
      ]
    },
    {
      "cell_type": "code",
      "metadata": {
        "id": "zq3yg-f_TUn3",
        "colab_type": "code",
        "colab": {
          "base_uri": "https://localhost:8080/",
          "height": 70
        },
        "outputId": "98a6a14c-47ca-482a-b8d3-61232fb49e22"
      },
      "source": [
        "import nltk\n",
        "nltk.download('words')\n",
        "from nltk.corpus import words\n",
        "words.readme().replace('\\n','')"
      ],
      "execution_count": 16,
      "outputs": [
        {
          "output_type": "stream",
          "text": [
            "[nltk_data] Downloading package words to /root/nltk_data...\n",
            "[nltk_data]   Unzipping corpora/words.zip.\n"
          ],
          "name": "stdout"
        },
        {
          "output_type": "execute_result",
          "data": {
            "text/plain": [
              "'Wordlistsen: English, http://en.wikipedia.org/wiki/Words_(Unix)en-basic: 850 English words: C.K. Ogden in The ABC of Basic English (1932)'"
            ]
          },
          "metadata": {
            "tags": []
          },
          "execution_count": 16
        }
      ]
    },
    {
      "cell_type": "code",
      "metadata": {
        "id": "fYd3xicQTU-g",
        "colab_type": "code",
        "colab": {
          "base_uri": "https://localhost:8080/",
          "height": 36
        },
        "outputId": "d244c235-1e8b-48a1-b079-00f1afd62727"
      },
      "source": [
        "words"
      ],
      "execution_count": 18,
      "outputs": [
        {
          "output_type": "execute_result",
          "data": {
            "text/plain": [
              "<WordListCorpusReader in '/root/nltk_data/corpora/words'>"
            ]
          },
          "metadata": {
            "tags": []
          },
          "execution_count": 18
        }
      ]
    },
    {
      "cell_type": "code",
      "metadata": {
        "id": "T2T0fu5oU-Qn",
        "colab_type": "code",
        "colab": {}
      },
      "source": [
        ""
      ],
      "execution_count": 0,
      "outputs": []
    },
    {
      "cell_type": "code",
      "metadata": {
        "id": "m0uMzqw4U-7v",
        "colab_type": "code",
        "colab": {
          "base_uri": "https://localhost:8080/",
          "height": 36
        },
        "outputId": "87c12d06-5ea7-4c4b-d126-8ebb2aa960af"
      },
      "source": [
        "words.fileids()"
      ],
      "execution_count": 35,
      "outputs": [
        {
          "output_type": "execute_result",
          "data": {
            "text/plain": [
              "['en', 'en-basic']"
            ]
          },
          "metadata": {
            "tags": []
          },
          "execution_count": 35
        }
      ]
    },
    {
      "cell_type": "code",
      "metadata": {
        "id": "P34Uvu1mVGLa",
        "colab_type": "code",
        "colab": {
          "base_uri": "https://localhost:8080/",
          "height": 193
        },
        "outputId": "cf267f3d-b870-4bad-b55d-c3cd399037d6"
      },
      "source": [
        "words.words('en')[:10]"
      ],
      "execution_count": 21,
      "outputs": [
        {
          "output_type": "execute_result",
          "data": {
            "text/plain": [
              "['A',\n",
              " 'a',\n",
              " 'aa',\n",
              " 'aal',\n",
              " 'aalii',\n",
              " 'aam',\n",
              " 'Aani',\n",
              " 'aardvark',\n",
              " 'aardwolf',\n",
              " 'Aaron']"
            ]
          },
          "metadata": {
            "tags": []
          },
          "execution_count": 21
        }
      ]
    },
    {
      "cell_type": "code",
      "metadata": {
        "id": "BuFHeI96VLlV",
        "colab_type": "code",
        "colab": {
          "base_uri": "https://localhost:8080/",
          "height": 36
        },
        "outputId": "a2256e81-b01a-4203-bb26-bacafea1add8"
      },
      "source": [
        "len(words.words('en'))"
      ],
      "execution_count": 22,
      "outputs": [
        {
          "output_type": "execute_result",
          "data": {
            "text/plain": [
              "235886"
            ]
          },
          "metadata": {
            "tags": []
          },
          "execution_count": 22
        }
      ]
    },
    {
      "cell_type": "code",
      "metadata": {
        "id": "PJ26TUytVR5a",
        "colab_type": "code",
        "colab": {
          "base_uri": "https://localhost:8080/",
          "height": 36
        },
        "outputId": "9506acf0-084c-4add-d05e-a5e212382921"
      },
      "source": [
        "len(words.words('en-basic'))"
      ],
      "execution_count": 23,
      "outputs": [
        {
          "output_type": "execute_result",
          "data": {
            "text/plain": [
              "850"
            ]
          },
          "metadata": {
            "tags": []
          },
          "execution_count": 23
        }
      ]
    },
    {
      "cell_type": "code",
      "metadata": {
        "id": "ItQ3Kr5OVbGK",
        "colab_type": "code",
        "colab": {
          "base_uri": "https://localhost:8080/",
          "height": 36
        },
        "outputId": "7e6fa43f-9361-4f2e-f33a-bef2a959779c"
      },
      "source": [
        "english_vocab = set(w.lower() for w in words.words())\n",
        "text_vocab = set(w.lower() for w in text_tokenized if w.isalpha()) \n",
        "unusual = text_vocab.difference(english_vocab)\n",
        "unusual"
      ],
      "execution_count": 24,
      "outputs": [
        {
          "output_type": "execute_result",
          "data": {
            "text/plain": [
              "{'google'}"
            ]
          },
          "metadata": {
            "tags": []
          },
          "execution_count": 24
        }
      ]
    },
    {
      "cell_type": "code",
      "metadata": {
        "id": "703e2mYETVQT",
        "colab_type": "code",
        "colab": {
          "base_uri": "https://localhost:8080/",
          "height": 106
        },
        "outputId": "2643fc7e-0301-4402-f562-23a67b3becc2"
      },
      "source": [
        "import nltk\n",
        "nltk.download('averaged_perceptron_tagger')\n",
        "\n",
        "\n",
        "text = 'the dogs are barking outside'\n",
        "word = nltk.word_tokenize(text)\n",
        "pos_tag = nltk.pos_tag(word)\n",
        "print (pos_tag)"
      ],
      "execution_count": 39,
      "outputs": [
        {
          "output_type": "stream",
          "text": [
            "[nltk_data] Downloading package averaged_perceptron_tagger to\n",
            "[nltk_data]     /root/nltk_data...\n",
            "[nltk_data]   Package averaged_perceptron_tagger is already up-to-\n",
            "[nltk_data]       date!\n",
            "[('the', 'DT'), ('dogs', 'NNS'), ('are', 'VBP'), ('barking', 'VBG'), ('outside', 'IN')]\n"
          ],
          "name": "stdout"
        }
      ]
    },
    {
      "cell_type": "code",
      "metadata": {
        "id": "ngJ4KDUWU7V1",
        "colab_type": "code",
        "colab": {
          "base_uri": "https://localhost:8080/",
          "height": 158
        },
        "outputId": "689523ab-5608-4318-91f6-b59b81cce01f"
      },
      "source": [
        "import nltk\n",
        "nltk.download('averaged_perceptron_tagger')\n",
        "nltk.download('maxent_ne_chunker')\n",
        "text ='who is Barrack Obama'\n",
        "word = nltk.word_tokenize(text)\n",
        "pos_tag = nltk.pos_tag(word)\n",
        "chunk = nltk.ne_chunk(pos_tag)\n",
        "NE = [ ' ' .join(w for w, t in ele) for ele in chunk if isinstance(ele, nltk.Tree)]\n",
        "print (NE)"
      ],
      "execution_count": 53,
      "outputs": [
        {
          "output_type": "stream",
          "text": [
            "[nltk_data] Downloading package averaged_perceptron_tagger to\n",
            "[nltk_data]     /root/nltk_data...\n",
            "[nltk_data]   Package averaged_perceptron_tagger is already up-to-\n",
            "[nltk_data]       date!\n",
            "[nltk_data] Downloading package maxent_ne_chunker to\n",
            "[nltk_data]     /root/nltk_data...\n",
            "[nltk_data]   Unzipping chunkers/maxent_ne_chunker.zip.\n",
            "['Barrack Obama']\n"
          ],
          "name": "stdout"
        }
      ]
    },
    {
      "cell_type": "code",
      "metadata": {
        "id": "P6c5ogopWWwK",
        "colab_type": "code",
        "colab": {}
      },
      "source": [
        "text = 'इराक के विदेश मंत्री ने अमरीका के उस प्रस्ताव का मजाक उड़ाया है , जिसमें अमरीका ने संयुक्त राष्ट्र के प्रतिबंधों को इराकी नागरिकों के लिए कम हानिकारक बनाने के लिए कहा है ।'\n"
      ],
      "execution_count": 0,
      "outputs": []
    },
    {
      "cell_type": "code",
      "metadata": {
        "id": "_S_4uPqPXpEW",
        "colab_type": "code",
        "colab": {
          "base_uri": "https://localhost:8080/",
          "height": 52
        },
        "outputId": "d5ac25c2-53ba-406d-fae3-42c6940487a6"
      },
      "source": [
        "import nltk\n",
        "nltk.download('indian')\n",
        "from nltk.tag import tnt\n",
        "from nltk.corpus import indian\n",
        "\n",
        "\n",
        "train_data=indian.tagged_sents('hindi.pos')\n",
        "tnt_pos_tagger=tnt.TnT()\n",
        "tnt_pos_tagger.train(train_data)"
      ],
      "execution_count": 48,
      "outputs": [
        {
          "output_type": "stream",
          "text": [
            "[nltk_data] Downloading package indian to /root/nltk_data...\n",
            "[nltk_data]   Unzipping corpora/indian.zip.\n"
          ],
          "name": "stdout"
        }
      ]
    },
    {
      "cell_type": "code",
      "metadata": {
        "id": "WYr_Ml28X6c6",
        "colab_type": "code",
        "colab": {
          "base_uri": "https://localhost:8080/",
          "height": 36
        },
        "outputId": "92c88715-433a-4643-e404-091806d58f9c"
      },
      "source": [
        "train_data"
      ],
      "execution_count": 49,
      "outputs": [
        {
          "output_type": "execute_result",
          "data": {
            "text/plain": [
              "[[('पूर्ण', 'JJ'), ('प्रतिबंध', 'NN'), ('हटाओ', 'VFM'), (':', 'SYM'), ('इराक', 'NNP')], [('संयुक्त', 'NNC'), ('राष्ट्र', 'NN'), ('।', 'SYM')], ...]"
            ]
          },
          "metadata": {
            "tags": []
          },
          "execution_count": 49
        }
      ]
    },
    {
      "cell_type": "code",
      "metadata": {
        "id": "WUO2t4I1YX21",
        "colab_type": "code",
        "colab": {}
      },
      "source": [
        "docA = 'The cat sat on my face'\n",
        "docB = 'the dog sat on my bed'"
      ],
      "execution_count": 0,
      "outputs": []
    },
    {
      "cell_type": "code",
      "metadata": {
        "id": "NXgpw1YIYYUO",
        "colab_type": "code",
        "colab": {}
      },
      "source": [
        "bowA = docA.split(' ')\n",
        "bowB = docB.split(' ')"
      ],
      "execution_count": 0,
      "outputs": []
    },
    {
      "cell_type": "code",
      "metadata": {
        "id": "gZnSgc8RYYt3",
        "colab_type": "code",
        "colab": {
          "base_uri": "https://localhost:8080/",
          "height": 36
        },
        "outputId": "90aeb4fc-13bc-4b2e-b41c-b8fa98fa5bc9"
      },
      "source": [
        "bowB"
      ],
      "execution_count": 59,
      "outputs": [
        {
          "output_type": "execute_result",
          "data": {
            "text/plain": [
              "['the', 'dog', 'sat', 'on', 'my', 'bed']"
            ]
          },
          "metadata": {
            "tags": []
          },
          "execution_count": 59
        }
      ]
    },
    {
      "cell_type": "code",
      "metadata": {
        "id": "hZHlMxK-YZMF",
        "colab_type": "code",
        "colab": {}
      },
      "source": [
        "wordSet = set(bowA).union(set(bowB))"
      ],
      "execution_count": 0,
      "outputs": []
    },
    {
      "cell_type": "code",
      "metadata": {
        "id": "WNjv8GDqYZno",
        "colab_type": "code",
        "colab": {
          "base_uri": "https://localhost:8080/",
          "height": 36
        },
        "outputId": "08b3baf9-a074-4f1e-9ee6-9a0690e27b73"
      },
      "source": [
        "wordSet"
      ],
      "execution_count": 61,
      "outputs": [
        {
          "output_type": "execute_result",
          "data": {
            "text/plain": [
              "{'The', 'bed', 'cat', 'dog', 'face', 'my', 'on', 'sat', 'the'}"
            ]
          },
          "metadata": {
            "tags": []
          },
          "execution_count": 61
        }
      ]
    },
    {
      "cell_type": "code",
      "metadata": {
        "id": "Hsr4te37YaEl",
        "colab_type": "code",
        "colab": {}
      },
      "source": [
        "wordDictA = dict.fromkeys(wordSet, 0)\n",
        "wordDictB = dict.fromkeys(wordSet, 0)"
      ],
      "execution_count": 0,
      "outputs": []
    },
    {
      "cell_type": "code",
      "metadata": {
        "id": "kE9iEHYXbOCO",
        "colab_type": "code",
        "colab": {
          "base_uri": "https://localhost:8080/",
          "height": 176
        },
        "outputId": "6746db7e-b4a0-4b42-c1d8-91b8cb9aa198"
      },
      "source": [
        "wordDictA"
      ],
      "execution_count": 63,
      "outputs": [
        {
          "output_type": "execute_result",
          "data": {
            "text/plain": [
              "{'The': 0,\n",
              " 'bed': 0,\n",
              " 'cat': 0,\n",
              " 'dog': 0,\n",
              " 'face': 0,\n",
              " 'my': 0,\n",
              " 'on': 0,\n",
              " 'sat': 0,\n",
              " 'the': 0}"
            ]
          },
          "metadata": {
            "tags": []
          },
          "execution_count": 63
        }
      ]
    },
    {
      "cell_type": "code",
      "metadata": {
        "id": "qCRgc7RkbOkq",
        "colab_type": "code",
        "colab": {}
      },
      "source": [
        "for word in bowA:\n",
        "  wordDictA[word]+=1\n",
        "  \n",
        "for word in bowB:\n",
        "  wordDictA[word]+=1"
      ],
      "execution_count": 0,
      "outputs": []
    },
    {
      "cell_type": "code",
      "metadata": {
        "id": "aDGWqoO7bPLl",
        "colab_type": "code",
        "colab": {
          "base_uri": "https://localhost:8080/",
          "height": 176
        },
        "outputId": "6a132e08-efd4-49e3-807d-58f5436c700a"
      },
      "source": [
        "wordDictA"
      ],
      "execution_count": 65,
      "outputs": [
        {
          "output_type": "execute_result",
          "data": {
            "text/plain": [
              "{'The': 1,\n",
              " 'bed': 1,\n",
              " 'cat': 1,\n",
              " 'dog': 1,\n",
              " 'face': 1,\n",
              " 'my': 2,\n",
              " 'on': 2,\n",
              " 'sat': 2,\n",
              " 'the': 1}"
            ]
          },
          "metadata": {
            "tags": []
          },
          "execution_count": 65
        }
      ]
    },
    {
      "cell_type": "code",
      "metadata": {
        "id": "9-acK0BybPtp",
        "colab_type": "code",
        "colab": {
          "base_uri": "https://localhost:8080/",
          "height": 112
        },
        "outputId": "f2382ee5-c66f-4e6f-9ffe-602b63188651"
      },
      "source": [
        "import pandas as pd\n",
        "pd.DataFrame([wordDictA, wordDictB])"
      ],
      "execution_count": 66,
      "outputs": [
        {
          "output_type": "execute_result",
          "data": {
            "text/html": [
              "<div>\n",
              "<style scoped>\n",
              "    .dataframe tbody tr th:only-of-type {\n",
              "        vertical-align: middle;\n",
              "    }\n",
              "\n",
              "    .dataframe tbody tr th {\n",
              "        vertical-align: top;\n",
              "    }\n",
              "\n",
              "    .dataframe thead th {\n",
              "        text-align: right;\n",
              "    }\n",
              "</style>\n",
              "<table border=\"1\" class=\"dataframe\">\n",
              "  <thead>\n",
              "    <tr style=\"text-align: right;\">\n",
              "      <th></th>\n",
              "      <th>The</th>\n",
              "      <th>bed</th>\n",
              "      <th>cat</th>\n",
              "      <th>dog</th>\n",
              "      <th>face</th>\n",
              "      <th>my</th>\n",
              "      <th>on</th>\n",
              "      <th>sat</th>\n",
              "      <th>the</th>\n",
              "    </tr>\n",
              "  </thead>\n",
              "  <tbody>\n",
              "    <tr>\n",
              "      <th>0</th>\n",
              "      <td>1</td>\n",
              "      <td>1</td>\n",
              "      <td>1</td>\n",
              "      <td>1</td>\n",
              "      <td>1</td>\n",
              "      <td>2</td>\n",
              "      <td>2</td>\n",
              "      <td>2</td>\n",
              "      <td>1</td>\n",
              "    </tr>\n",
              "    <tr>\n",
              "      <th>1</th>\n",
              "      <td>0</td>\n",
              "      <td>0</td>\n",
              "      <td>0</td>\n",
              "      <td>0</td>\n",
              "      <td>0</td>\n",
              "      <td>0</td>\n",
              "      <td>0</td>\n",
              "      <td>0</td>\n",
              "      <td>0</td>\n",
              "    </tr>\n",
              "  </tbody>\n",
              "</table>\n",
              "</div>"
            ],
            "text/plain": [
              "   The  bed  cat  dog  face  my  on  sat  the\n",
              "0    1    1    1    1     1   2   2    2    1\n",
              "1    0    0    0    0     0   0   0    0    0"
            ]
          },
          "metadata": {
            "tags": []
          },
          "execution_count": 66
        }
      ]
    },
    {
      "cell_type": "code",
      "metadata": {
        "id": "iD31wd8jcphH",
        "colab_type": "code",
        "colab": {}
      },
      "source": [
        "def computeTF(wordDict, bow):\n",
        "  tfDict = {}\n",
        "  bowCount = len(bow)\n",
        "  for word, count in wordDict.items():\n",
        "    tfDict[word] = count/float(bowCount)\n",
        "  return tfDict"
      ],
      "execution_count": 0,
      "outputs": []
    },
    {
      "cell_type": "code",
      "metadata": {
        "id": "w7oC2dwpcqVg",
        "colab_type": "code",
        "colab": {}
      },
      "source": [
        "tfBowA = computeTF(wordDictA, bowA)\n",
        "tfBowB = computeTF(wordDictB, bowB)"
      ],
      "execution_count": 0,
      "outputs": []
    },
    {
      "cell_type": "code",
      "metadata": {
        "id": "DqdnPh8XcrSb",
        "colab_type": "code",
        "colab": {
          "base_uri": "https://localhost:8080/",
          "height": 176
        },
        "outputId": "d9bbb787-3f09-4102-a2ad-e81fc3b1d85e"
      },
      "source": [
        "tfBowA"
      ],
      "execution_count": 77,
      "outputs": [
        {
          "output_type": "execute_result",
          "data": {
            "text/plain": [
              "{'The': 0.16666666666666666,\n",
              " 'bed': 0.16666666666666666,\n",
              " 'cat': 0.16666666666666666,\n",
              " 'dog': 0.16666666666666666,\n",
              " 'face': 0.16666666666666666,\n",
              " 'my': 0.3333333333333333,\n",
              " 'on': 0.3333333333333333,\n",
              " 'sat': 0.3333333333333333,\n",
              " 'the': 0.16666666666666666}"
            ]
          },
          "metadata": {
            "tags": []
          },
          "execution_count": 77
        }
      ]
    },
    {
      "cell_type": "code",
      "metadata": {
        "id": "7x674JGEbQTa",
        "colab_type": "code",
        "colab": {
          "base_uri": "https://localhost:8080/",
          "height": 176
        },
        "outputId": "e843d645-7d3c-4ec0-ed88-2ce9b2d46ad4"
      },
      "source": [
        "tfBowB"
      ],
      "execution_count": 78,
      "outputs": [
        {
          "output_type": "execute_result",
          "data": {
            "text/plain": [
              "{'The': 0.0,\n",
              " 'bed': 0.0,\n",
              " 'cat': 0.0,\n",
              " 'dog': 0.0,\n",
              " 'face': 0.0,\n",
              " 'my': 0.0,\n",
              " 'on': 0.0,\n",
              " 'sat': 0.0,\n",
              " 'the': 0.0}"
            ]
          },
          "metadata": {
            "tags": []
          },
          "execution_count": 78
        }
      ]
    },
    {
      "cell_type": "code",
      "metadata": {
        "id": "V-kbVh1mbQ_g",
        "colab_type": "code",
        "colab": {}
      },
      "source": [
        "def computeIDF(docList):\n",
        "  import math\n",
        "  idfDict={}\n",
        "  N = len(docList)\n",
        "  \n",
        "  idfDict = dict.fromkeys(docList[0].keys(),0)\n",
        "  for doc in docList:\n",
        "    for word,val in doc.items():\n",
        "      if val>0:\n",
        "        idfDict[word]+=1\n",
        "        \n",
        "  for word,val in idfDict.items():\n",
        "    idfDict[word] = math.log10(N/float(val))\n",
        "  return idfDict"
      ],
      "execution_count": 0,
      "outputs": []
    },
    {
      "cell_type": "code",
      "metadata": {
        "id": "ErckFHGpbSDr",
        "colab_type": "code",
        "colab": {}
      },
      "source": [
        "idfs = computeIDF([wordDictA, wordDictB])"
      ],
      "execution_count": 0,
      "outputs": []
    },
    {
      "cell_type": "code",
      "metadata": {
        "id": "S-xz0I-EfrXT",
        "colab_type": "code",
        "colab": {}
      },
      "source": [
        "def computeTFIDF(tfBow, idfs):\n",
        "  tfidf = {}\n",
        "  for word,val in tfBow.items():\n",
        "    tfidf[word] = val*idfs[word]\n",
        "  return tfidf"
      ],
      "execution_count": 0,
      "outputs": []
    },
    {
      "cell_type": "code",
      "metadata": {
        "id": "J4xj4rT1fsHj",
        "colab_type": "code",
        "colab": {}
      },
      "source": [
        "tfidfBowA = computeTFIDF(tfBowA, idfs)\n",
        "tfidfBowB = computeTFIDF(tfBowB, idfs)"
      ],
      "execution_count": 0,
      "outputs": []
    },
    {
      "cell_type": "code",
      "metadata": {
        "id": "Iks4ArSngbX6",
        "colab_type": "code",
        "colab": {
          "base_uri": "https://localhost:8080/",
          "height": 112
        },
        "outputId": "1d748d42-0175-4c48-e814-de9e512ebb98"
      },
      "source": [
        "import pandas as pd\n",
        "pd.DataFrame([tfidfBowA, tfidfBowB])"
      ],
      "execution_count": 104,
      "outputs": [
        {
          "output_type": "execute_result",
          "data": {
            "text/html": [
              "<div>\n",
              "<style scoped>\n",
              "    .dataframe tbody tr th:only-of-type {\n",
              "        vertical-align: middle;\n",
              "    }\n",
              "\n",
              "    .dataframe tbody tr th {\n",
              "        vertical-align: top;\n",
              "    }\n",
              "\n",
              "    .dataframe thead th {\n",
              "        text-align: right;\n",
              "    }\n",
              "</style>\n",
              "<table border=\"1\" class=\"dataframe\">\n",
              "  <thead>\n",
              "    <tr style=\"text-align: right;\">\n",
              "      <th></th>\n",
              "      <th>The</th>\n",
              "      <th>bed</th>\n",
              "      <th>cat</th>\n",
              "      <th>dog</th>\n",
              "      <th>face</th>\n",
              "      <th>my</th>\n",
              "      <th>on</th>\n",
              "      <th>sat</th>\n",
              "      <th>the</th>\n",
              "    </tr>\n",
              "  </thead>\n",
              "  <tbody>\n",
              "    <tr>\n",
              "      <th>0</th>\n",
              "      <td>0.050172</td>\n",
              "      <td>0.050172</td>\n",
              "      <td>0.050172</td>\n",
              "      <td>0.050172</td>\n",
              "      <td>0.050172</td>\n",
              "      <td>0.100343</td>\n",
              "      <td>0.100343</td>\n",
              "      <td>0.100343</td>\n",
              "      <td>0.050172</td>\n",
              "    </tr>\n",
              "    <tr>\n",
              "      <th>1</th>\n",
              "      <td>0.000000</td>\n",
              "      <td>0.000000</td>\n",
              "      <td>0.000000</td>\n",
              "      <td>0.000000</td>\n",
              "      <td>0.000000</td>\n",
              "      <td>0.000000</td>\n",
              "      <td>0.000000</td>\n",
              "      <td>0.000000</td>\n",
              "      <td>0.000000</td>\n",
              "    </tr>\n",
              "  </tbody>\n",
              "</table>\n",
              "</div>"
            ],
            "text/plain": [
              "        The       bed       cat  ...        on       sat       the\n",
              "0  0.050172  0.050172  0.050172  ...  0.100343  0.100343  0.050172\n",
              "1  0.000000  0.000000  0.000000  ...  0.000000  0.000000  0.000000\n",
              "\n",
              "[2 rows x 9 columns]"
            ]
          },
          "metadata": {
            "tags": []
          },
          "execution_count": 104
        }
      ]
    },
    {
      "cell_type": "code",
      "metadata": {
        "id": "et8H97bIgcCM",
        "colab_type": "code",
        "colab": {}
      },
      "source": [
        "from sklearn.feature_extraction.text import TfidfVectorizer"
      ],
      "execution_count": 0,
      "outputs": []
    },
    {
      "cell_type": "code",
      "metadata": {
        "id": "5XvOQm0KhjXR",
        "colab_type": "code",
        "colab": {}
      },
      "source": [
        "tfidf = TfidfVectorizer()"
      ],
      "execution_count": 0,
      "outputs": []
    },
    {
      "cell_type": "code",
      "metadata": {
        "id": "epp28lYThj9f",
        "colab_type": "code",
        "colab": {}
      },
      "source": [
        "response = tfidf.fit_transform([docA, docB])"
      ],
      "execution_count": 0,
      "outputs": []
    },
    {
      "cell_type": "code",
      "metadata": {
        "id": "wOFK2t-WgXsr",
        "colab_type": "code",
        "colab": {
          "base_uri": "https://localhost:8080/",
          "height": 228
        },
        "outputId": "79f6686e-3b71-4499-e371-513e1357ab44"
      },
      "source": [
        "feature_names = tfidf.get_feature_names()\n",
        "for col in response.nonzero()[1]:\n",
        "  print(feature_names[col],'-',response[0,col])"
      ],
      "execution_count": 99,
      "outputs": [
        {
          "output_type": "stream",
          "text": [
            "face - 0.49844627974580596\n",
            "my - 0.35464863330313684\n",
            "on - 0.35464863330313684\n",
            "sat - 0.35464863330313684\n",
            "cat - 0.49844627974580596\n",
            "the - 0.35464863330313684\n",
            "bed - 0.0\n",
            "dog - 0.0\n",
            "my - 0.35464863330313684\n",
            "on - 0.35464863330313684\n",
            "sat - 0.35464863330313684\n",
            "the - 0.35464863330313684\n"
          ],
          "name": "stdout"
        }
      ]
    },
    {
      "cell_type": "code",
      "metadata": {
        "id": "soqMpR4Wi7Hb",
        "colab_type": "code",
        "colab": {}
      },
      "source": [
        "\n"
      ],
      "execution_count": 0,
      "outputs": []
    },
    {
      "cell_type": "code",
      "metadata": {
        "id": "n-Yf4e47i7qF",
        "colab_type": "code",
        "colab": {}
      },
      "source": [
        ""
      ],
      "execution_count": 0,
      "outputs": []
    },
    {
      "cell_type": "code",
      "metadata": {
        "id": "a_Y5D-aVi8HP",
        "colab_type": "code",
        "colab": {}
      },
      "source": [
        ""
      ],
      "execution_count": 0,
      "outputs": []
    }
  ]
}