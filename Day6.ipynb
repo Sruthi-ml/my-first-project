{
 "cells": [
  {
   "cell_type": "code",
   "execution_count": 15,
   "metadata": {},
   "outputs": [
    {
     "name": "stdout",
     "output_type": "stream",
     "text": [
      "0 ... 2 ... ab\n",
      "3 ... 5 ... ab\n",
      "5 ... 7 ... ab\n",
      "The number of occurences:  3\n"
     ]
    }
   ],
   "source": [
    "import re\n",
    "count=0\n",
    "pattern = re.compile(\"ab\")\n",
    "matcher=pattern.finditer(\"abaababa\")\n",
    "for match in matcher:\n",
    "    count+=1\n",
    "    print(match.start(),\"...\",match.end(),\"...\",match.group())\n",
    "print(\"The number of occurences: \",count)"
   ]
  },
  {
   "cell_type": "code",
   "execution_count": 16,
   "metadata": {},
   "outputs": [
    {
     "name": "stdout",
     "output_type": "stream",
     "text": [
      "1 ... 7\n",
      "3 ... @\n",
      "4 ... k\n",
      "5 ... 9\n",
      "6 ... z\n"
     ]
    }
   ],
   "source": [
    "import re\n",
    "matcher=re.finditer(\"[^abc]\",\"a7b@k9zc\")\n",
    "for match in matcher:\n",
    "    print(match.start(),\"...\",match.group())"
   ]
  },
  {
   "cell_type": "code",
   "execution_count": 17,
   "metadata": {},
   "outputs": [
    {
     "name": "stdout",
     "output_type": "stream",
     "text": [
      "0 ... a\n",
      "2 ... b\n",
      "4 ... k\n",
      "6 ... z\n",
      "7 ... c\n"
     ]
    }
   ],
   "source": [
    "import re\n",
    "matcher=re.finditer(\"[a-z]\",\"a7b@k9zc\")\n",
    "for match in matcher:\n",
    "    print(match.start(),\"...\",match.group())"
   ]
  },
  {
   "cell_type": "code",
   "execution_count": 11,
   "metadata": {},
   "outputs": [
    {
     "name": "stdout",
     "output_type": "stream",
     "text": [
      "1 ... 7\n",
      "5 ... 9\n"
     ]
    }
   ],
   "source": [
    "import re\n",
    "matcher=re.finditer(\"[0-9]\",\"a7b@k9zc\")\n",
    "for match in matcher:\n",
    "    print(match.start(),\"...\",match.group())"
   ]
  },
  {
   "cell_type": "code",
   "execution_count": 12,
   "metadata": {},
   "outputs": [
    {
     "name": "stdout",
     "output_type": "stream",
     "text": [
      "0 ... a\n",
      "1 ... 7\n",
      "2 ... b\n",
      "3 ... C\n",
      "5 ... k\n",
      "6 ... 9\n",
      "7 ... z\n",
      "8 ... c\n"
     ]
    }
   ],
   "source": [
    "import re\n",
    "matcher=re.finditer(\"[a-zA-Z0-9]\",\"a7bC@k9zc\")\n",
    "for match in matcher:\n",
    "    print(match.start(),\"...\",match.group())"
   ]
  },
  {
   "cell_type": "code",
   "execution_count": 18,
   "metadata": {},
   "outputs": [
    {
     "name": "stdout",
     "output_type": "stream",
     "text": [
      "0 ... a\n",
      "2 ... b\n",
      "7 ... c\n"
     ]
    }
   ],
   "source": [
    "import re\n",
    "matcher=re.finditer(\"[abc]\",\"a7b@k9zc\")\n",
    "for match in matcher:\n",
    "    print(match.start(),\"...\",match.group())"
   ]
  },
  {
   "cell_type": "code",
   "execution_count": 19,
   "metadata": {},
   "outputs": [
    {
     "name": "stdout",
     "output_type": "stream",
     "text": [
      "4 ...  \n"
     ]
    }
   ],
   "source": [
    "import re\n",
    "matcher=re.finditer(\"\\s\",\"a7bC @k9zc\")\n",
    "for match in matcher:\n",
    "    print(match.start(),\"...\",match.group())"
   ]
  },
  {
   "cell_type": "code",
   "execution_count": 20,
   "metadata": {},
   "outputs": [
    {
     "name": "stdout",
     "output_type": "stream",
     "text": [
      "1 ... 7\n",
      "7 ... 9\n"
     ]
    }
   ],
   "source": [
    "import re\n",
    "matcher=re.finditer(\"\\d\",\"a7bC @k9zc\")\n",
    "for match in matcher:\n",
    "    print(match.start(),\"...\",match.group())"
   ]
  },
  {
   "cell_type": "code",
   "execution_count": 21,
   "metadata": {},
   "outputs": [
    {
     "name": "stdout",
     "output_type": "stream",
     "text": [
      "0 ... a\n",
      "2 ... b\n",
      "3 ... C\n",
      "4 ...  \n",
      "5 ... @\n",
      "6 ... k\n",
      "8 ... z\n",
      "9 ... c\n"
     ]
    }
   ],
   "source": [
    "import re\n",
    "matcher=re.finditer(\"\\D\",\"a7bC @k9zc\")\n",
    "for match in matcher:\n",
    "    print(match.start(),\"...\",match.group())"
   ]
  },
  {
   "cell_type": "code",
   "execution_count": 22,
   "metadata": {},
   "outputs": [
    {
     "name": "stdout",
     "output_type": "stream",
     "text": [
      "0 ... a\n",
      "1 ... 7\n",
      "2 ... b\n",
      "3 ... C\n",
      "6 ... k\n",
      "7 ... 9\n",
      "8 ... z\n",
      "9 ... c\n"
     ]
    }
   ],
   "source": [
    "import re\n",
    "matcher=re.finditer(\"\\w\",\"a7bC @k9zc\")\n",
    "for match in matcher:\n",
    "    print(match.start(),\"...\",match.group())"
   ]
  },
  {
   "cell_type": "code",
   "execution_count": 23,
   "metadata": {},
   "outputs": [
    {
     "name": "stdout",
     "output_type": "stream",
     "text": [
      "4 ...  \n",
      "5 ... @\n"
     ]
    }
   ],
   "source": [
    "import re\n",
    "matcher=re.finditer(\"\\W\",\"a7bC @k9zc\")\n",
    "for match in matcher:\n",
    "    print(match.start(),\"...\",match.group())"
   ]
  },
  {
   "cell_type": "code",
   "execution_count": 28,
   "metadata": {},
   "outputs": [
    {
     "name": "stdout",
     "output_type": "stream",
     "text": [
      "0 ... \n",
      "1 ... \n",
      "2 ... \n",
      "3 ... \n",
      "4 ... \n",
      "5 ... \n",
      "6 ... \n",
      "7 ... \n",
      "8 ... \n"
     ]
    }
   ],
   "source": [
    "matcher=re.finditer(\"\",\"abaabaab\")\n",
    "for match in matcher:\n",
    "    print(match.start(),\"...\",match.group())"
   ]
  },
  {
   "cell_type": "code",
   "execution_count": 27,
   "metadata": {},
   "outputs": [
    {
     "name": "stdout",
     "output_type": "stream",
     "text": [
      "0 ... a\n",
      "2 ... aa\n",
      "5 ... aa\n"
     ]
    }
   ],
   "source": [
    "matcher=re.finditer(\"a+\",\"abaabaab\")\n",
    "for match in matcher:\n",
    "    print(match.start(),\"...\",match.group())"
   ]
  },
  {
   "cell_type": "code",
   "execution_count": 30,
   "metadata": {},
   "outputs": [
    {
     "name": "stdout",
     "output_type": "stream",
     "text": [
      "0 ... a\n",
      "1 ... \n",
      "2 ... a\n",
      "3 ... a\n",
      "4 ... \n",
      "5 ... a\n",
      "6 ... a\n",
      "7 ... \n",
      "8 ... \n"
     ]
    }
   ],
   "source": [
    "matcher=re.finditer(\"a?\",\"abaabaab\")\n",
    "for match in matcher:\n",
    "    print(match.start(),\"...\",match.group())"
   ]
  },
  {
   "cell_type": "code",
   "execution_count": 33,
   "metadata": {},
   "outputs": [
    {
     "name": "stdout",
     "output_type": "stream",
     "text": [
      "5 ... aaa\n"
     ]
    }
   ],
   "source": [
    "matcher=re.finditer(\"a{3}\",\"abaabaaab\")\n",
    "for match in matcher:\n",
    "    print(match.start(),\"...\",match.group())"
   ]
  },
  {
   "cell_type": "code",
   "execution_count": 34,
   "metadata": {},
   "outputs": [
    {
     "name": "stdout",
     "output_type": "stream",
     "text": [
      "2 ... aa\n",
      "5 ... aaa\n"
     ]
    }
   ],
   "source": [
    "matcher=re.finditer(\"a{2,4}\",\"abaabaaab\")\n",
    "for match in matcher:\n",
    "    print(match.start(),\"...\",match.group())"
   ]
  },
  {
   "cell_type": "code",
   "execution_count": 36,
   "metadata": {},
   "outputs": [
    {
     "name": "stdout",
     "output_type": "stream",
     "text": [
      "target string starts with Learn\n"
     ]
    }
   ],
   "source": [
    "s=\"Learning Python is very Easy\"\n",
    "res=re.search(\"^Learn\",s)\n",
    "if res!=None:\n",
    "    print(\"target string starts with Learn\")\n",
    "else:\n",
    "    print(\"target string not starts with Learn\")"
   ]
  },
  {
   "cell_type": "code",
   "execution_count": 37,
   "metadata": {},
   "outputs": [
    {
     "name": "stdout",
     "output_type": "stream",
     "text": [
      "target string not starts with Learn\n"
     ]
    }
   ],
   "source": [
    "s=\"Python is very Easy\"\n",
    "res=re.search(\"^Learn\",s)\n",
    "if res!=None:\n",
    "    print(\"target string starts with Learn\")\n",
    "else:\n",
    "    print(\"target string not starts with Learn\")"
   ]
  },
  {
   "cell_type": "code",
   "execution_count": 44,
   "metadata": {},
   "outputs": [
    {
     "name": "stdout",
     "output_type": "stream",
     "text": [
      "target string ends with Easy\n"
     ]
    }
   ],
   "source": [
    "s=\"Learning Python is very Easy\"\n",
    "res=re.search(\"easy$\",s,re.IGNORECASE)\n",
    "if res!=None:\n",
    "    print(\"target string ends with Easy\")\n",
    "else:\n",
    "    print(\"target string not ends with Easy\")"
   ]
  },
  {
   "cell_type": "code",
   "execution_count": 45,
   "metadata": {},
   "outputs": [
    {
     "name": "stdout",
     "output_type": "stream",
     "text": [
      "target string not ends with Easy\n"
     ]
    }
   ],
   "source": [
    "s=\"Easy Python learning\"\n",
    "res=re.search(\"Easy$\",s)\n",
    "if res!=None:\n",
    "    print(\"target string ends with Easy\")\n",
    "else:\n",
    "    print(\"target string not ends with Easy\")"
   ]
  },
  {
   "cell_type": "code",
   "execution_count": 51,
   "metadata": {},
   "outputs": [
    {
     "name": "stdout",
     "output_type": "stream",
     "text": [
      "Valid phone number\n"
     ]
    }
   ],
   "source": [
    "import re\n",
    "\n",
    "phonenumber= \"954-457-7961\"\n",
    "\n",
    "regex= \"\\w{3}-\\w{3}-\\w{4}\"\n",
    "\n",
    "if re.search(regex, phonenumber):\n",
    "    print(\"Valid phone number\")\n",
    "else:\n",
    "    print(\"Invalid phone number\")"
   ]
  },
  {
   "cell_type": "code",
   "execution_count": 53,
   "metadata": {},
   "outputs": [
    {
     "name": "stdout",
     "output_type": "stream",
     "text": [
      "enter mobile number6789469\n",
      "wrong\n"
     ]
    }
   ],
   "source": [
    "import re\n",
    "inp=input(\"enter mobile number\")\n",
    "res=re.search(\"^[6-9]/d {9}\",inp)\n",
    "if res!=None:\n",
    "    print(\"correct\")\n",
    "else:\n",
    "    print(\"wrong\")"
   ]
  },
  {
   "cell_type": "code",
   "execution_count": 55,
   "metadata": {},
   "outputs": [
    {
     "name": "stdout",
     "output_type": "stream",
     "text": [
      "extracted all mobile numbers\n"
     ]
    }
   ],
   "source": [
    "f1=open(\"input.txt\",\"r\")\n",
    "f2=open(\"output.txt\",\"w\")\n",
    "for line in f1:\n",
    "    list=re.findall(\"[6-9]\\d{9}\",line)\n",
    "    for n in list:\n",
    "        f2.write(n+\"\\n\")\n",
    "print(\"extracted all mobile numbers\")\n",
    "f1.close()\n",
    "f2.close()"
   ]
  },
  {
   "cell_type": "code",
   "execution_count": 59,
   "metadata": {},
   "outputs": [
    {
     "name": "stdout",
     "output_type": "stream",
     "text": [
      "enter vehicle registration numberyd547\n",
      "not as valid num\n"
     ]
    }
   ],
   "source": [
    "s=input(\"enter vehicle registration number\")\n",
    "m=re.fullmatch(\"KA[0][0-6][A-Z]{2}\\d{9}\",s)\n",
    "if m!=None:\n",
    "    print(\"its valid reg num\")\n",
    "else:\n",
    "    print(\"not as valid num\")"
   ]
  },
  {
   "cell_type": "code",
   "execution_count": 60,
   "metadata": {},
   "outputs": [
    {
     "name": "stdout",
     "output_type": "stream",
     "text": [
      "enterEMAILsruthiprajeevnair@gmail.com\n",
      "its valid reg num\n"
     ]
    }
   ],
   "source": [
    "s=input(\"enter EMAIL\")\n",
    "m=re.fullmatch(\"\\w[a-zA-Z0-9_.]*@gmail[.]com\",s)\n",
    "if m!=None:\n",
    "    print(\"its valid reg num\")\n",
    "else:\n",
    "    print(\"not as valid num\")"
   ]
  },
  {
   "cell_type": "code",
   "execution_count": 69,
   "metadata": {},
   "outputs": [],
   "source": [
    "import pandas as pd\n",
    "train = pd.read_csv('titanic_train.csv')"
   ]
  },
  {
   "cell_type": "code",
   "execution_count": 70,
   "metadata": {},
   "outputs": [
    {
     "data": {
      "text/html": [
       "<div>\n",
       "<style scoped>\n",
       "    .dataframe tbody tr th:only-of-type {\n",
       "        vertical-align: middle;\n",
       "    }\n",
       "\n",
       "    .dataframe tbody tr th {\n",
       "        vertical-align: top;\n",
       "    }\n",
       "\n",
       "    .dataframe thead th {\n",
       "        text-align: right;\n",
       "    }\n",
       "</style>\n",
       "<table border=\"1\" class=\"dataframe\">\n",
       "  <thead>\n",
       "    <tr style=\"text-align: right;\">\n",
       "      <th></th>\n",
       "      <th>PassengerId</th>\n",
       "      <th>Survived</th>\n",
       "      <th>Pclass</th>\n",
       "      <th>Name</th>\n",
       "      <th>Sex</th>\n",
       "      <th>Age</th>\n",
       "      <th>SibSp</th>\n",
       "      <th>Parch</th>\n",
       "      <th>Ticket</th>\n",
       "      <th>Fare</th>\n",
       "      <th>Cabin</th>\n",
       "      <th>Embarked</th>\n",
       "    </tr>\n",
       "  </thead>\n",
       "  <tbody>\n",
       "    <tr>\n",
       "      <th>0</th>\n",
       "      <td>1</td>\n",
       "      <td>0</td>\n",
       "      <td>3</td>\n",
       "      <td>Braund, Mr. Owen Harris</td>\n",
       "      <td>male</td>\n",
       "      <td>22.0</td>\n",
       "      <td>1</td>\n",
       "      <td>0</td>\n",
       "      <td>A/5 21171</td>\n",
       "      <td>7.2500</td>\n",
       "      <td>NaN</td>\n",
       "      <td>S</td>\n",
       "    </tr>\n",
       "    <tr>\n",
       "      <th>1</th>\n",
       "      <td>2</td>\n",
       "      <td>1</td>\n",
       "      <td>1</td>\n",
       "      <td>Cumings, Mrs. John Bradley (Florence Briggs Th...</td>\n",
       "      <td>female</td>\n",
       "      <td>38.0</td>\n",
       "      <td>1</td>\n",
       "      <td>0</td>\n",
       "      <td>PC 17599</td>\n",
       "      <td>71.2833</td>\n",
       "      <td>C85</td>\n",
       "      <td>C</td>\n",
       "    </tr>\n",
       "    <tr>\n",
       "      <th>2</th>\n",
       "      <td>3</td>\n",
       "      <td>1</td>\n",
       "      <td>3</td>\n",
       "      <td>Heikkinen, Miss. Laina</td>\n",
       "      <td>female</td>\n",
       "      <td>26.0</td>\n",
       "      <td>0</td>\n",
       "      <td>0</td>\n",
       "      <td>STON/O2. 3101282</td>\n",
       "      <td>7.9250</td>\n",
       "      <td>NaN</td>\n",
       "      <td>S</td>\n",
       "    </tr>\n",
       "    <tr>\n",
       "      <th>3</th>\n",
       "      <td>4</td>\n",
       "      <td>1</td>\n",
       "      <td>1</td>\n",
       "      <td>Futrelle, Mrs. Jacques Heath (Lily May Peel)</td>\n",
       "      <td>female</td>\n",
       "      <td>35.0</td>\n",
       "      <td>1</td>\n",
       "      <td>0</td>\n",
       "      <td>113803</td>\n",
       "      <td>53.1000</td>\n",
       "      <td>C123</td>\n",
       "      <td>S</td>\n",
       "    </tr>\n",
       "    <tr>\n",
       "      <th>4</th>\n",
       "      <td>5</td>\n",
       "      <td>0</td>\n",
       "      <td>3</td>\n",
       "      <td>Allen, Mr. William Henry</td>\n",
       "      <td>male</td>\n",
       "      <td>35.0</td>\n",
       "      <td>0</td>\n",
       "      <td>0</td>\n",
       "      <td>373450</td>\n",
       "      <td>8.0500</td>\n",
       "      <td>NaN</td>\n",
       "      <td>S</td>\n",
       "    </tr>\n",
       "  </tbody>\n",
       "</table>\n",
       "</div>"
      ],
      "text/plain": [
       "   PassengerId  Survived  Pclass  \\\n",
       "0            1         0       3   \n",
       "1            2         1       1   \n",
       "2            3         1       3   \n",
       "3            4         1       1   \n",
       "4            5         0       3   \n",
       "\n",
       "                                                Name     Sex   Age  SibSp  \\\n",
       "0                            Braund, Mr. Owen Harris    male  22.0      1   \n",
       "1  Cumings, Mrs. John Bradley (Florence Briggs Th...  female  38.0      1   \n",
       "2                             Heikkinen, Miss. Laina  female  26.0      0   \n",
       "3       Futrelle, Mrs. Jacques Heath (Lily May Peel)  female  35.0      1   \n",
       "4                           Allen, Mr. William Henry    male  35.0      0   \n",
       "\n",
       "   Parch            Ticket     Fare Cabin Embarked  \n",
       "0      0         A/5 21171   7.2500   NaN        S  \n",
       "1      0          PC 17599  71.2833   C85        C  \n",
       "2      0  STON/O2. 3101282   7.9250   NaN        S  \n",
       "3      0            113803  53.1000  C123        S  \n",
       "4      0            373450   8.0500   NaN        S  "
      ]
     },
     "execution_count": 70,
     "metadata": {},
     "output_type": "execute_result"
    }
   ],
   "source": [
    "train.head()"
   ]
  },
  {
   "cell_type": "code",
   "execution_count": null,
   "metadata": {},
   "outputs": [],
   "source": []
  }
 ],
 "metadata": {
  "kernelspec": {
   "display_name": "Python 3",
   "language": "python",
   "name": "python3"
  },
  "language_info": {
   "codemirror_mode": {
    "name": "ipython",
    "version": 3
   },
   "file_extension": ".py",
   "mimetype": "text/x-python",
   "name": "python",
   "nbconvert_exporter": "python",
   "pygments_lexer": "ipython3",
   "version": "3.6.5"
  }
 },
 "nbformat": 4,
 "nbformat_minor": 2
}
